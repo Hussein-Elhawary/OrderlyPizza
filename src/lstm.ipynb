{
 "cells": [
  {
   "cell_type": "code",
   "execution_count": 1,
   "metadata": {},
   "outputs": [],
   "source": [
    "from transformers import RobertaTokenizer\n",
    "from transformers import RobertaTokenizer, RobertaModel\n",
    "from sklearn.feature_extraction.text import TfidfVectorizer\n",
    "from gensim.models import Word2Vec\n",
    "\n",
    "from sklearn.decomposition import LatentDirichletAllocation\n",
    "from sklearn.feature_extraction.text import CountVectorizer\n",
    "\n",
    "from sklearn.preprocessing import normalize\n",
    "import pandas as pd\n",
    "from tqdm import tqdm\n",
    "from torch import nn\n",
    "import random as rnd\n",
    "import torch\n",
    "import ast\n",
    "import numpy as np"
   ]
  },
  {
   "cell_type": "code",
   "execution_count": 2,
   "metadata": {},
   "outputs": [],
   "source": [
    "\n",
    "def extract_sentences():\n",
    "\n",
    "    # Extract src data\n",
    "    source_data = []\n",
    "    top_data = []\n",
    "    top_decoupled_data = []\n",
    "\n",
    "    # Read source.txt\n",
    "    with open('../dataset/source.txt', 'r') as file:\n",
    "        source_data = ast.literal_eval(file.read())\n",
    "\n",
    "    # Read labels.txt\n",
    "    with open(\"../dataset/input_labels.txt\", 'r') as file:\n",
    "        labels = file.read().splitlines()\n",
    "\n",
    "    return source_data, labels"
   ]
  },
  {
   "cell_type": "code",
   "execution_count": 3,
   "metadata": {},
   "outputs": [],
   "source": [
    "def read_unique_labels(file_path):\n",
    "    labels = []\n",
    "    with open(file_path, 'r') as file:\n",
    "        labels = file.read().splitlines()\n",
    "    return labels"
   ]
  },
  {
   "cell_type": "code",
   "execution_count": 4,
   "metadata": {},
   "outputs": [],
   "source": [
    "def extract_word2vec_embeddings(data, device='cuda'):\n",
    "    \"\"\"\n",
    "    Extract Word2Vec embeddings\n",
    "    \"\"\"\n",
    "    sentences = [sentence.split() for sentence in data]\n",
    "    model = Word2Vec(sentences, vector_size=100, window=5, min_count=1, workers=4)\n",
    "    \n",
    "    # Convert to GPU tensor if possible\n",
    "    embeddings = []\n",
    "    for sentence in sentences:\n",
    "        # Get word vectors, use zeros if word not in vocabulary\n",
    "        sent_embedding = [model.wv[word] for word in sentence if word in model.wv] or [np.zeros(100)]\n",
    "        embedding = torch.tensor(np.mean(sent_embedding, axis=0), device=device)\n",
    "        embeddings.append(embedding)\n",
    "    \n",
    "    return torch.stack(embeddings)\n",
    "\n",
    "def extract_contextual_embeddings(data, device='cuda'):\n",
    "    \"\"\"\n",
    "    Extract RoBERTa contextual embeddings\n",
    "    \"\"\"\n",
    "    # Move model to GPU if available\n",
    "    device = torch.device(device if torch.cuda.is_available() else 'cpu')\n",
    "    tokenizer = RobertaTokenizer.from_pretrained('roberta-base')\n",
    "    model = RobertaModel.from_pretrained('roberta-base').to(device)\n",
    "    \n",
    "    embeddings = []\n",
    "    for sentence in data:\n",
    "        # Tokenize and move to GPU\n",
    "        inputs = tokenizer(sentence, return_tensors=\"pt\", padding=True, truncation=True).to(device)\n",
    "        \n",
    "        with torch.no_grad():\n",
    "            outputs = model(**inputs)\n",
    "        \n",
    "        # Mean pooling and move back to CPU if needed\n",
    "        embedding = outputs.last_hidden_state.mean(dim=1).squeeze()\n",
    "        embeddings.append(embedding.cpu().numpy())\n",
    "    \n",
    "    return np.array(embeddings)\n",
    "\n",
    "def extract_lda_features(data, n_topics=2):\n",
    "    vectorizer = TfidfVectorizer()\n",
    "    tfidf_matrix = vectorizer.fit_transform(data)\n",
    "    lda = LatentDirichletAllocation(n_components=n_topics, random_state=0)\n",
    "    lda_features = lda.fit_transform(tfidf_matrix)\n",
    "    return lda_features"
   ]
  },
  {
   "cell_type": "code",
   "execution_count": 5,
   "metadata": {},
   "outputs": [],
   "source": [
    "# def extract_word2vec_embeddings(data):\n",
    "#     sentences = [sentence.split() for sentence in data]\n",
    "#     model = Word2Vec(sentences, vector_size=100, window=5, min_count=1, workers=4)\n",
    "#     embeddings = [np.mean([model.wv[word] for word in sentence if word in model.wv] or [np.zeros(100)], axis=0) for sentence in sentences]\n",
    "#     return np.array(embeddings)\n",
    "\n",
    "\n",
    "# def extract_contextual_embeddings(data):\n",
    "#     tokenizer = RobertaTokenizer.from_pretrained('roberta-base')\n",
    "#     model = RobertaModel.from_pretrained('roberta-base')\n",
    "#     embeddings = []\n",
    "#     for sentence in data:\n",
    "#         inputs = tokenizer(sentence, return_tensors=\"pt\", padding=True, truncation=True)\n",
    "#         with torch.no_grad():\n",
    "#             outputs = model(**inputs)\n",
    "#         embeddings.append(outputs.last_hidden_state.mean(dim=1).squeeze().numpy())\n",
    "#     return np.array(embeddings)\n",
    "\n",
    "# def extract_lda_features(data, n_topics=2):\n",
    "#     \"\"\"Extract LDA features.\"\"\"\n",
    "#     vectorizer = TfidfVectorizer()\n",
    "#     tfidf_matrix = vectorizer.fit_transform(data)\n",
    "#     lda = LatentDirichletAllocation(n_components=n_topics, random_state=0)\n",
    "#     lda_features = lda.fit_transform(tfidf_matrix)\n",
    "#     return lda_features\n"
   ]
  },
  {
   "cell_type": "code",
   "execution_count": 6,
   "metadata": {},
   "outputs": [],
   "source": [
    "def lstm_embedding(data):\n",
    "    word2vec_embeddings = extract_word2vec_embeddings(data)\n",
    "    lda_features = extract_lda_features(data)\n",
    "    contextual_embeddings = extract_contextual_embeddings(data)\n",
    "\n",
    "    word2vec_embeddings = word2vec_embeddings.cpu().numpy()\n",
    "    combined_features = np.hstack((word2vec_embeddings, lda_features, contextual_embeddings))\n",
    "    return combined_features\n"
   ]
  },
  {
   "cell_type": "code",
   "execution_count": 7,
   "metadata": {},
   "outputs": [],
   "source": [
    "#LSTM model\n",
    "class NER(nn.Module):\n",
    "    def __init__(self, n_classes, hidden_size=50, embedding_dim=768):\n",
    "        \"\"\"\n",
    "        The constructor of our NER model\n",
    "        Inputs:\n",
    "        - vacab_size: the number of unique words\n",
    "        - embedding_dim: the embedding dimension\n",
    "        - n_classes: the number of final classes (tags)\n",
    "        \"\"\"\n",
    "        super(NER, self).__init__()\n",
    "        ## Word embedding layer\n",
    "        #self.embedding = nn.Embedding(vocab_size, embedding_dim)\n",
    "        \n",
    "        # Combine word and contextual embeddings\n",
    "        #combined_embedding_dim = embedding_dim + contextual_embedding_dim\n",
    "        \n",
    "        # LSTM layer with combined embedding\n",
    "        self.lstm = nn.LSTM(embedding_dim, hidden_size, batch_first=True)\n",
    "        \n",
    "        # Linear layer\n",
    "        self.linear = nn.Linear(hidden_size, n_classes)\n",
    "\n",
    "    def forward(self, embeddings):\n",
    "        \"\"\"\n",
    "        This function does the forward pass of our model\n",
    "        Inputs:\n",
    "        - sentences: tensor of shape (batch_size, max_length)\n",
    "\n",
    "        Returns:\n",
    "        - final_output: tensor of shape (batch_size, max_length, n_classes)\n",
    "        \"\"\"\n",
    "\n",
    "        # Word embeddings\n",
    "        #word_embedded = self.embedding(sentences)\n",
    "\n",
    "        # Ensure contextual embeddings have the same dimensions as word embeddings\n",
    "        #contextual_embeddings = contextual_embeddings[:, :word_embedded.size(1), :]\n",
    "\n",
    "        # Concatenate word and contextual embeddings\n",
    "        #combined_embeddings = torch.cat([word_embedded, contextual_embeddings], dim=-1)\n",
    "        \n",
    "        # LSTM and linear layers\n",
    "        lstm_out, _ = self.lstm(embeddings)\n",
    "        final_output = self.linear(lstm_out)\n",
    "        \n",
    "        return final_output\n",
    "  \n",
    "def train(model, train_dataset, batch_size=512, epochs=5, learning_rate=0.00005 , save_path=\"models_lstm/model_epoch_{}.pth\"):\n",
    "    \"\"\"\n",
    "    This function implements the training logic\n",
    "    Inputs:\n",
    "    - model: the model ot be trained\n",
    "    - train_dataset: the training set of type NERDataset\n",
    "    - batch_size: integer represents the number of examples per step\n",
    "    - epochs: integer represents the total number of epochs (full training pass)\n",
    "    - learning_rate: the learning rate to be used by the optimizer\n",
    "    \"\"\"\n",
    "\n",
    "    ############################## TODO: replace the Nones in the following code ##################################\n",
    "    \n",
    "    # (1) create the dataloader of the training set (make the shuffle=True)\n",
    "    train_dataloader = torch.utils.data.DataLoader(train_dataset, batch_size=batch_size, shuffle=True)\n",
    "\n",
    "    # (2) make the criterion cross entropy loss\n",
    "    criterion = nn.CrossEntropyLoss()\n",
    "\n",
    "    # (3) create the optimizer (Adam)\n",
    "    optimizer = torch.optim.Adam(model.parameters(), lr=learning_rate)\n",
    "\n",
    "    # GPU configuration\n",
    "    use_cuda = torch.cuda.is_available()\n",
    "    device = torch.device(\"cuda\" if use_cuda else \"cpu\")\n",
    "    if use_cuda:\n",
    "        model = model.cuda()\n",
    "        criterion = criterion.cuda()\n",
    "    else:\n",
    "        print(\"CUDA is not available. Training on CPU ...\")\n",
    "    \n",
    "    for epoch_num in range(epochs):\n",
    "        total_acc_train = 0\n",
    "        total_loss_train = 0\n",
    "\n",
    "        for train_input, train_label in tqdm(train_dataloader):\n",
    "            # (4) move the train input to the device\n",
    "            embeddings = lstm_embedding(train_input)\n",
    "            embeddings_tensor = torch.tensor(embeddings).float()\n",
    "            embeddings_tensor = embeddings_tensor.to(device)\n",
    "\n",
    "            train_label = train_label.float()\n",
    "            train_label = train_label.to(device)\n",
    "            \n",
    "            # (5) move the train label to the device\n",
    "\n",
    "            # (6) do the forward pass\n",
    "            output = model(embeddings_tensor)\n",
    "            # output = output.permute(0, 2, 1) \n",
    "\n",
    "            batch_loss = criterion(output.reshape(-1), train_label.view(-1))\n",
    "\n",
    "            # (8) append the batch loss to the total_loss_train\n",
    "            total_loss_train += batch_loss.item()\n",
    "            \n",
    "            # (9) calculate the batch accuracy (just add the number of correct predictions)\n",
    "\n",
    "            train_label = train_label.permute(1, 0) \n",
    "            acc = torch.sum(torch.argmax(output, dim=-1) == train_label)\n",
    "            total_acc_train += acc\n",
    "\n",
    "            # (10) zero your gradients\n",
    "            optimizer.zero_grad()\n",
    "\n",
    "            # (11) do the backward pass\n",
    "            batch_loss.backward()\n",
    "\n",
    "            # (12) update the weights with your optimizer\n",
    "            optimizer.step()\n",
    "        \n",
    "\n",
    "        ##############################################################################################################    \n",
    "            # epoch loss\n",
    "            epoch_loss = total_loss_train / len(train_dataset)\n",
    "\n",
    "            # (13) calculate the accuracy\n",
    "            epoch_acc = total_acc_train / (len(train_dataset) * train_dataset.y_tensor.size(1))\n",
    "\n",
    "            print(\n",
    "                f'Epochs: {epoch_num + 1} | Train Loss: {epoch_loss} \\\n",
    "                | Train Accuracy: {epoch_acc}\\n')\n",
    "            save_model(model, epoch_num, save_path)\n"
   ]
  },
  {
   "cell_type": "code",
   "execution_count": 8,
   "metadata": {},
   "outputs": [],
   "source": [
    "\n",
    "class NERDataset(torch.utils.data.Dataset):\n",
    "\n",
    "  def __init__(self, x, y, max_len):\n",
    "    \"\"\"\n",
    "    This is the constructor of the NERDataset\n",
    "    Inputs:\n",
    "    - x: a list of lists where each list contains the ids of the tokens\n",
    "    - y: a list of lists where each list contains the label of each token in the sentence\n",
    "    - pad: the id of the <PAD> token (to be used for padding all sentences and labels to have the same length)\n",
    "    \"\"\"\n",
    "    # i guess x should be extended to have the same length as y\n",
    "    self.x_tensor = x\n",
    "    self.y_tensor = torch.tensor([seq + [0] * (max_len - len(seq)) for seq in y], dtype=torch.long)\n",
    "    #################################################################################################################\n",
    "\n",
    "  def __len__(self):\n",
    "    \"\"\"\n",
    "    This function should return the length of the dataset (the number of sentences)\n",
    "    \"\"\"\n",
    "    ###################### TODO: return the length of the dataset #############################\n",
    "\n",
    "    return len(self.x_tensor)\n",
    "  \n",
    "    ###########################################################################################\n",
    "\n",
    "  def __getitem__(self, idx):\n",
    "    \"\"\"\n",
    "    This function returns a subset of the whole dataset\n",
    "    \"\"\"\n",
    "    ###################### TODO: return a tuple of x and y ###################################\n",
    "    return self.x_tensor[idx], self.y_tensor[idx]\n",
    "    ##########################################################################################\n"
   ]
  },
  {
   "cell_type": "code",
   "execution_count": 9,
   "metadata": {},
   "outputs": [],
   "source": [
    "def save_model(model, epoch, path=\"model_epoch_{}.pth\"):\n",
    "    torch.save(model.state_dict(), path.format(epoch))\n",
    "    print(f\"Model saved to {path.format(epoch)}\")"
   ]
  },
  {
   "cell_type": "code",
   "execution_count": null,
   "metadata": {},
   "outputs": [],
   "source": []
  },
  {
   "cell_type": "code",
   "execution_count": null,
   "metadata": {},
   "outputs": [
    {
     "name": "stdout",
     "output_type": "stream",
     "text": [
      "train_SRC read  can i have a large bbq pulled pork\n",
      "output_labels read  0 0 0 B-NUMBER B-SIZE B-TOPPING I-TOPPING I-TOPPING \n",
      "train_SRC length  1024\n",
      "output_labels length  1024\n",
      "checkpoint 0\n",
      "checkpoint 1\n",
      "model created\n",
      "training starting\n",
      "checkpoint 2\n",
      "---------------------------------------------\n"
     ]
    },
    {
     "name": "stderr",
     "output_type": "stream",
     "text": [
      "  0%|          | 0/1 [00:00<?, ?it/s]Some weights of RobertaModel were not initialized from the model checkpoint at roberta-base and are newly initialized: ['roberta.pooler.dense.bias', 'roberta.pooler.dense.weight']\n",
      "You should probably TRAIN this model on a down-stream task to be able to use it for predictions and inference.\n",
      "100%|██████████| 1/1 [00:15<00:00, 15.25s/it]\n"
     ]
    },
    {
     "name": "stdout",
     "output_type": "stream",
     "text": [
      "Epochs: 1 | Train Loss: 658.3058471679688                 | Train Accuracy: 0.0\n",
      "\n",
      "Model saved to models_lstm/model_epoch_0.pth\n"
     ]
    },
    {
     "name": "stderr",
     "output_type": "stream",
     "text": [
      "  0%|          | 0/1 [00:00<?, ?it/s]Some weights of RobertaModel were not initialized from the model checkpoint at roberta-base and are newly initialized: ['roberta.pooler.dense.bias', 'roberta.pooler.dense.weight']\n",
      "You should probably TRAIN this model on a down-stream task to be able to use it for predictions and inference.\n",
      "100%|██████████| 1/1 [00:15<00:00, 15.51s/it]\n"
     ]
    },
    {
     "name": "stdout",
     "output_type": "stream",
     "text": [
      "Epochs: 2 | Train Loss: 646.1591186523438                 | Train Accuracy: 0.008242187090218067\n",
      "\n",
      "Model saved to models_lstm/model_epoch_1.pth\n"
     ]
    },
    {
     "name": "stderr",
     "output_type": "stream",
     "text": [
      "  0%|          | 0/1 [00:00<?, ?it/s]Some weights of RobertaModel were not initialized from the model checkpoint at roberta-base and are newly initialized: ['roberta.pooler.dense.bias', 'roberta.pooler.dense.weight']\n",
      "You should probably TRAIN this model on a down-stream task to be able to use it for predictions and inference.\n",
      "100%|██████████| 1/1 [00:15<00:00, 15.22s/it]\n"
     ]
    },
    {
     "name": "stdout",
     "output_type": "stream",
     "text": [
      "Epochs: 3 | Train Loss: 637.9321899414062                 | Train Accuracy: 0.014140624552965164\n",
      "\n",
      "Model saved to models_lstm/model_epoch_2.pth\n"
     ]
    },
    {
     "name": "stderr",
     "output_type": "stream",
     "text": [
      "  0%|          | 0/1 [00:00<?, ?it/s]Some weights of RobertaModel were not initialized from the model checkpoint at roberta-base and are newly initialized: ['roberta.pooler.dense.bias', 'roberta.pooler.dense.weight']\n",
      "You should probably TRAIN this model on a down-stream task to be able to use it for predictions and inference.\n",
      "100%|██████████| 1/1 [00:15<00:00, 15.39s/it]\n"
     ]
    },
    {
     "name": "stdout",
     "output_type": "stream",
     "text": [
      "Epochs: 4 | Train Loss: 632.2236938476562                 | Train Accuracy: 0.014140624552965164\n",
      "\n",
      "Model saved to models_lstm/model_epoch_3.pth\n"
     ]
    },
    {
     "name": "stderr",
     "output_type": "stream",
     "text": [
      "  0%|          | 0/1 [00:00<?, ?it/s]Some weights of RobertaModel were not initialized from the model checkpoint at roberta-base and are newly initialized: ['roberta.pooler.dense.bias', 'roberta.pooler.dense.weight']\n",
      "You should probably TRAIN this model on a down-stream task to be able to use it for predictions and inference.\n",
      "100%|██████████| 1/1 [00:16<00:00, 16.30s/it]\n"
     ]
    },
    {
     "name": "stdout",
     "output_type": "stream",
     "text": [
      "Epochs: 5 | Train Loss: 628.084716796875                 | Train Accuracy: 0.014140624552965164\n",
      "\n",
      "Model saved to models_lstm/model_epoch_4.pth\n"
     ]
    },
    {
     "name": "stderr",
     "output_type": "stream",
     "text": [
      "  0%|          | 0/1 [00:00<?, ?it/s]Some weights of RobertaModel were not initialized from the model checkpoint at roberta-base and are newly initialized: ['roberta.pooler.dense.bias', 'roberta.pooler.dense.weight']\n",
      "You should probably TRAIN this model on a down-stream task to be able to use it for predictions and inference.\n",
      "100%|██████████| 1/1 [00:16<00:00, 16.37s/it]\n"
     ]
    },
    {
     "name": "stdout",
     "output_type": "stream",
     "text": [
      "Epochs: 6 | Train Loss: 625.2139892578125                 | Train Accuracy: 0.014140624552965164\n",
      "\n",
      "Model saved to models_lstm/model_epoch_5.pth\n"
     ]
    },
    {
     "name": "stderr",
     "output_type": "stream",
     "text": [
      "  0%|          | 0/1 [00:00<?, ?it/s]"
     ]
    }
   ],
   "source": [
    "train_SRC,output_labels = extract_sentences()\n",
    "train_SRC = train_SRC[:1024]\n",
    "output_labels = output_labels[:1024]\n",
    "print(\"train_SRC read \",train_SRC[0])\n",
    "print(\"output_labels read \",output_labels[0])\n",
    "print(\"train_SRC length \",len(train_SRC))\n",
    "print(\"output_labels length \",len(output_labels))\n",
    "print(\"checkpoint 0\")\n",
    "\n",
    "ut_labels = read_unique_labels('./unique_labels.txt')\n",
    "\n",
    "t_labels = {}\n",
    "t_labels['0'] = 0\n",
    "for i in range(len(ut_labels)):\n",
    "    t_labels[ut_labels[i]] = i+1\n",
    "\n",
    "train_SRC_size = len(train_SRC)\n",
    "\n",
    "longest_sentence = 25\n",
    "print(\"checkpoint 1\")\n",
    "#tag_indices = [[t_labels[tag] for tag in sentence_tags] for sentence_tags in output_labels]\n",
    "for i in range(len(output_labels)):\n",
    "    output_labels[i] = output_labels[i].split()\n",
    "tag_indices = [[t_labels[tag] for tag in sentence_tags] for sentence_tags in output_labels]\n",
    "\n",
    "model = NER(longest_sentence, hidden_size=50, embedding_dim=870)\n",
    "train_dataset = NERDataset(train_SRC, tag_indices, longest_sentence)    \n",
    "print(\"model created\")\n",
    "print(\"training starting\")\n",
    "print(\"checkpoint 2\")\n",
    "print(\"---------------------------------------------\")\n",
    "train(model, train_dataset, batch_size=1024, epochs=10, learning_rate=0.005)\n"
   ]
  }
 ],
 "metadata": {
  "kernelspec": {
   "display_name": "Python 3",
   "language": "python",
   "name": "python3"
  },
  "language_info": {
   "codemirror_mode": {
    "name": "ipython",
    "version": 3
   },
   "file_extension": ".py",
   "mimetype": "text/x-python",
   "name": "python",
   "nbconvert_exporter": "python",
   "pygments_lexer": "ipython3",
   "version": "3.12.2"
  }
 },
 "nbformat": 4,
 "nbformat_minor": 2
}
