{
 "cells": [
  {
   "cell_type": "code",
   "execution_count": 127,
   "metadata": {},
   "outputs": [],
   "source": [
    "from transformers import RobertaTokenizer\n",
    "from transformers import RobertaTokenizer, RobertaModel\n",
    "from sklearn.feature_extraction.text import TfidfVectorizer\n",
    "from gensim.models import Word2Vec\n",
    "\n",
    "from sklearn.decomposition import LatentDirichletAllocation\n",
    "from sklearn.feature_extraction.text import CountVectorizer\n",
    "import time\n",
    "\n",
    "from sklearn.preprocessing import normalize\n",
    "import pandas as pd\n",
    "from tqdm import tqdm\n",
    "from torch import nn\n",
    "import random as rnd\n",
    "import torch\n",
    "import ast\n",
    "import numpy as np"
   ]
  },
  {
   "cell_type": "code",
   "execution_count": 128,
   "metadata": {},
   "outputs": [],
   "source": [
    "\n",
    "def extract_sentences():\n",
    "\n",
    "    # Extract src data\n",
    "    source_data = []\n",
    "    top_data = []\n",
    "    top_decoupled_data = []\n",
    "\n",
    "    # Read source.txt\n",
    "    with open('../dataset/source.txt', 'r') as file:\n",
    "        source_data = ast.literal_eval(file.read())\n",
    "\n",
    "    # Read labels.txt\n",
    "    with open(\"../dataset/input_labels.txt\", 'r') as file:\n",
    "        labels = file.read().splitlines()\n",
    "\n",
    "    return source_data, labels"
   ]
  },
  {
   "cell_type": "code",
   "execution_count": 129,
   "metadata": {},
   "outputs": [],
   "source": [
    "def read_unique_labels(file_path):\n",
    "    labels = []\n",
    "    with open(file_path, 'r') as file:\n",
    "        labels = file.read().splitlines()\n",
    "    return labels"
   ]
  },
  {
   "cell_type": "code",
   "execution_count": 130,
   "metadata": {},
   "outputs": [],
   "source": [
    "def extract_word2vec_embeddings(data, device='cuda'):\n",
    "    \"\"\"\n",
    "    Extract Word2Vec embeddings\n",
    "    \"\"\"\n",
    "    sentences = [sentence.split() for sentence in data]\n",
    "    model = Word2Vec(sentences, vector_size=100, window=5, min_count=1, workers=4)\n",
    "    \n",
    "    # Convert to GPU tensor if possible\n",
    "    embeddings = []\n",
    "    for sentence in sentences:\n",
    "        # Get word vectors, use zeros if word not in vocabulary\n",
    "        sent_embedding = [model.wv[word] for word in sentence if word in model.wv] or [np.zeros(100)]\n",
    "        embedding = torch.tensor(np.mean(sent_embedding, axis=0), device=device)\n",
    "        embeddings.append(embedding)\n",
    "    \n",
    "    return torch.stack(embeddings)\n",
    "\n",
    "def extract_contextual_embeddings(data, device='cuda'):\n",
    "    \"\"\"\n",
    "    Extract RoBERTa contextual embeddings\n",
    "    \"\"\"\n",
    "    # Move model to GPU if available\n",
    "    device = torch.device(device if torch.cuda.is_available() else 'cpu')\n",
    "    tokenizer = RobertaTokenizer.from_pretrained('roberta-base')\n",
    "    model = RobertaModel.from_pretrained('roberta-base').to(device)\n",
    "    \n",
    "    embeddings = []\n",
    "    for sentence in data:\n",
    "        # Tokenize and move to GPU\n",
    "        inputs = tokenizer(sentence, return_tensors=\"pt\", padding=True, truncation=True).to(device)\n",
    "        \n",
    "        with torch.no_grad():\n",
    "            outputs = model(**inputs)\n",
    "        \n",
    "        # Mean pooling and move back to CPU if needed\n",
    "        embedding = outputs.last_hidden_state.mean(dim=1).squeeze()\n",
    "        embeddings.append(embedding.cpu().numpy())\n",
    "    \n",
    "    return np.array(embeddings)\n",
    "\n",
    "def extract_lda_features(data, n_topics=2):\n",
    "    vectorizer = TfidfVectorizer()\n",
    "    tfidf_matrix = vectorizer.fit_transform(data)\n",
    "    lda = LatentDirichletAllocation(n_components=n_topics, random_state=0)\n",
    "    lda_features = lda.fit_transform(tfidf_matrix)\n",
    "    return lda_features"
   ]
  },
  {
   "cell_type": "code",
   "execution_count": 131,
   "metadata": {},
   "outputs": [],
   "source": [
    "# def extract_word2vec_embeddings(data):\n",
    "#     sentences = [sentence.split() for sentence in data]\n",
    "#     model = Word2Vec(sentences, vector_size=100, window=5, min_count=1, workers=4)\n",
    "#     embeddings = [np.mean([model.wv[word] for word in sentence if word in model.wv] or [np.zeros(100)], axis=0) for sentence in sentences]\n",
    "#     return np.array(embeddings)\n",
    "\n",
    "\n",
    "# def extract_contextual_embeddings(data):\n",
    "#     tokenizer = RobertaTokenizer.from_pretrained('roberta-base')\n",
    "#     model = RobertaModel.from_pretrained('roberta-base')\n",
    "#     embeddings = []\n",
    "#     for sentence in data:\n",
    "#         inputs = tokenizer(sentence, return_tensors=\"pt\", padding=True, truncation=True)\n",
    "#         with torch.no_grad():\n",
    "#             outputs = model(**inputs)\n",
    "#         embeddings.append(outputs.last_hidden_state.mean(dim=1).squeeze().numpy())\n",
    "#     return np.array(embeddings)\n",
    "\n",
    "# def extract_lda_features(data, n_topics=2):\n",
    "#     \"\"\"Extract LDA features.\"\"\"\n",
    "#     vectorizer = TfidfVectorizer()\n",
    "#     tfidf_matrix = vectorizer.fit_transform(data)\n",
    "#     lda = LatentDirichletAllocation(n_components=n_topics, random_state=0)\n",
    "#     lda_features = lda.fit_transform(tfidf_matrix)\n",
    "#     return lda_features\n"
   ]
  },
  {
   "cell_type": "code",
   "execution_count": 132,
   "metadata": {},
   "outputs": [],
   "source": [
    "def lstm_embedding(data):\n",
    "    word2vec_embeddings = extract_word2vec_embeddings(data)\n",
    "    lda_features = extract_lda_features(data)\n",
    "    contextual_embeddings = extract_contextual_embeddings(data)\n",
    "\n",
    "    word2vec_embeddings = word2vec_embeddings.cpu().numpy()\n",
    "    combined_features = np.hstack((word2vec_embeddings, lda_features, contextual_embeddings))\n",
    "    return combined_features\n",
    "\n",
    "class NERDataset(torch.utils.data.Dataset):\n",
    "\n",
    "  def __init__(self, x, y, max_len):\n",
    "    \"\"\"\n",
    "    This is the constructor of the NERDataset\n",
    "    Inputs:\n",
    "    - x: a list of lists where each list contains the ids of the tokens\n",
    "    - y: a list of lists where each list contains the label of each token in the sentence\n",
    "    - pad: the id of the <PAD> token (to be used for padding all sentences and labels to have the same length)\n",
    "    \"\"\"\n",
    "    # i guess x should be extended to have the same length as y\n",
    "    self.x_tensor = x\n",
    "    self.y_tensor = torch.tensor([seq + [0] * (max_len - len(seq)) for seq in y], dtype=torch.long)\n",
    "    #################################################################################################################\n",
    "\n",
    "  def __len__(self):\n",
    "    \"\"\"\n",
    "    This function should return the length of the dataset (the number of sentences)\n",
    "    \"\"\"\n",
    "    ###################### TODO: return the length of the dataset #############################\n",
    "\n",
    "    return len(self.x_tensor)\n",
    "  \n",
    "    ###########################################################################################\n",
    "\n",
    "  def __getitem__(self, idx):\n",
    "    \"\"\"\n",
    "    This function returns a subset of the whole dataset\n",
    "    \"\"\"\n",
    "    ###################### TODO: return a tuple of x and y ###################################\n",
    "    return self.x_tensor[idx], self.y_tensor[idx]\n",
    "    ##########################################################################################\n",
    "\n",
    "def save_model(model, epoch, path=\"model_epoch_{}.pth\"):\n",
    "    torch.save(model.state_dict(), path.format(epoch))\n",
    "    print(f\"Model saved to {path.format(epoch)}\")"
   ]
  },
  {
   "cell_type": "code",
   "execution_count": 133,
   "metadata": {},
   "outputs": [],
   "source": [
    "def format_time(seconds):\n",
    "    hours = int(seconds // 3600)\n",
    "    minutes = int((seconds % 3600) // 60)\n",
    "    seconds = int(seconds % 60)\n",
    "    return f\"{hours}h {minutes}m {seconds}s\""
   ]
  },
  {
   "cell_type": "code",
   "execution_count": 134,
   "metadata": {},
   "outputs": [],
   "source": [
    "#LSTM model\n",
    "class NER(nn.Module):\n",
    "    def __init__(self, output_dim, hidden_size=512, embedding_dim=768,num_layers=1,dropout=0.1,bidirectional=True,batch_first=True,use_attention=False):\n",
    "        \"\"\"\n",
    "        The constructor of our NER model\n",
    "        Inputs:\n",
    "        - vacab_size: the number of unique words\n",
    "        - embedding_dim: the embedding dimension\n",
    "        - output_dim: output dimension\n",
    "        - hidden_size: the hidden size of the LSTM layer\n",
    "        - num_layers: the number of LSTM layers\n",
    "        - dropout: the dropout rate\n",
    "        - bidirectional: whether to use bidirectional LSTM\n",
    "        \"\"\"\n",
    "        super(NER, self).__init__()\n",
    "        ## Word embedding layer        \n",
    "        if bidirectional:\n",
    "            hidden_size = hidden_size // 2\n",
    "        # LSTM layer with combined embedding\n",
    "        self.lstm = nn.LSTM(embedding_dim, hidden_size,num_layers=num_layers, \n",
    "                            batch_first=True, dropout=dropout, bidirectional=bidirectional)\n",
    "        self.use_attention = use_attention\n",
    "        if use_attention:\n",
    "            if bidirectional:\n",
    "                hidden_size *= 2\n",
    "            self.attention = nn.ReLU()\n",
    "        # Linear layer\n",
    "        self.output_layer = nn.Linear(hidden_size, output_dim)\n",
    "\n",
    "    def forward(self, embeddings):\n",
    "        \"\"\"\n",
    "        This function does the forward pass of our model\n",
    "        Inputs:\n",
    "        - sentences: tensor of shape (batch_size, max_length)\n",
    "\n",
    "        Returns:\n",
    "        - final_output: tensor of shape (batch_size, max_length, n_classes)\n",
    "        \"\"\"\n",
    "\n",
    "        # LSTM and linear layers\n",
    "        if embeddings.dim() == 2:\n",
    "            embeddings = embeddings.unsqueeze(1)\n",
    "        lstm_out, _ = self.lstm(embeddings)\n",
    "        # Apply attention if needed\n",
    "\n",
    "        if self.use_attention:\n",
    "            # Compute attention weights\n",
    "            attention_weights = torch.softmax(self.attention(lstm_out), dim=1)\n",
    "            # Apply weighted sum\n",
    "            context = torch.sum(lstm_out * attention_weights, dim=1)\n",
    "        else:\n",
    "            # Use the last output if no attention\n",
    "            context = lstm_out[:, -1, :]\n",
    "\n",
    "        final_output = self.output_layer(context)\n",
    "        \n",
    "        return final_output\n",
    "  \n",
    "def train(model, train_dataset,norm_clip = 0.1, batch_size=512, epochs=5, learning_rate=0.00005 , save_path=\"models_lstm/model_epoch_{}.pth\"):\n",
    "    \"\"\"\n",
    "    This function implements the training logic\n",
    "    Inputs:\n",
    "    - model: the model ot be trained\n",
    "    - train_dataset: the training set of type NERDataset\n",
    "    - batch_size: integer represents the number of examples per step\n",
    "    - epochs: integer represents the total number of epochs (full training pass)\n",
    "    - learning_rate: the learning rate to be used by the optimizer\n",
    "    \"\"\"\n",
    "\n",
    "    ############################## TODO: replace the Nones in the following code ##################################\n",
    "    \n",
    "    # (1) create the dataloader of the training set (make the shuffle=True)\n",
    "    train_dataloader = torch.utils.data.DataLoader(train_dataset, batch_size=batch_size, shuffle=True)\n",
    "\n",
    "    # (2) make the criterion cross entropy loss\n",
    "    criterion = nn.CrossEntropyLoss()\n",
    "\n",
    "    # (3) create the optimizer (Adam)\n",
    "    optimizer = torch.optim.Adam(model.parameters(), lr=learning_rate)\n",
    "    epoch_times = []\n",
    "    batch_times = []\n",
    "\n",
    "    # GPU configuration\n",
    "    use_cuda = torch.cuda.is_available()\n",
    "    device = torch.device(\"cuda\" if use_cuda else \"cpu\")\n",
    "    if use_cuda:\n",
    "        model = model.cuda()\n",
    "        criterion = criterion.cuda()\n",
    "    else:\n",
    "        print(\"CUDA is not available. Training on CPU ...\")\n",
    "    \n",
    "    for epoch_num in range(epochs):\n",
    "        total_acc_train = 0\n",
    "        total_loss_train = 0\n",
    "        start_time = time.time()\n",
    "        batch_idx = 0\n",
    "        for train_input, train_label in tqdm(train_dataloader):\n",
    "            batch_start_time = time.time()\n",
    "\n",
    "            # (4) move the train input to the device\n",
    "            embeddings = lstm_embedding(train_input)\n",
    "            embeddings_tensor = torch.tensor(embeddings).float()\n",
    "            embeddings_tensor = embeddings_tensor.to(device)\n",
    "\n",
    "            train_label = train_label.float()\n",
    "            train_label = train_label.to(device)\n",
    "            \n",
    "            # (5) move the train label to the device\n",
    "\n",
    "            # (6) do the forward pass\n",
    "            output = model(embeddings_tensor)\n",
    "            # output = output.permute(0, 2, 1) \n",
    "\n",
    "            batch_loss = criterion(output.reshape(-1), train_label.view(-1))\n",
    "\n",
    "            # (8) append the batch loss to the total_loss_train\n",
    "            total_loss_train += batch_loss.item()\n",
    "            \n",
    "            # (9) calculate the batch accuracy (just add the number of correct predictions)\n",
    "\n",
    "            train_label = train_label.permute(1, 0) \n",
    "            acc = torch.sum(torch.argmax(output, dim=-1) == train_label)\n",
    "            total_acc_train += acc\n",
    "\n",
    "            # (10) zero your gradients\n",
    "            optimizer.zero_grad()\n",
    "\n",
    "            # (11) do the backward pass\n",
    "            batch_loss.backward()\n",
    "            torch.nn.utils.clip_grad_norm_(model.parameters(), norm_clip) \n",
    "            # (12) update the weights with your optimizer\n",
    "            optimizer.step()\n",
    "            # Calculate batch time\n",
    "        ##############################################################################################################    \n",
    "            # epoch loss\n",
    "            epoch_loss = total_loss_train / len(train_dataset)\n",
    "            epoch_acc = total_acc_train / (len(train_dataset) * train_dataset.y_tensor.size(1))\n",
    "            print(\n",
    "                f'Epochs: {epoch_num + 1} | Train Loss: {epoch_loss} \\\n",
    "                | Train Accuracy: {epoch_acc}\\n')\n",
    "            \n",
    "            batch_time = time.time() - batch_start_time\n",
    "            batch_times.append(batch_time)\n",
    "\n",
    "            # Calculate remaining time\n",
    "            avg_batch_time = sum(batch_times) / len(batch_times)\n",
    "            remaining_batches = (epochs - epoch_num - 1) * len(train_dataloader) + (len(train_dataloader) - batch_idx - 1)\n",
    "            remaining_time = avg_batch_time * remaining_batches\n",
    "\n",
    "            # Print batch metrics and remaining time\n",
    "            print(f\"Epoch {epoch_num+1}/{epochs}, Batch {batch_idx+1}/{len(train_dataloader)}\")#, Loss: {loss.item()}, Accuracy: {(predicted == train_label).sum().item() / train_label.numel()}\")\n",
    "            print(f\"Time for batch {batch_idx+1}: {batch_time:.2f} seconds\")\n",
    "            print(f\"Estimated remaining time: {format_time(remaining_time)} seconds\")\n",
    "            batch_idx += 1\n",
    "\n",
    "        # (13) calculate the accuracy\n",
    "        # Calculate epoch time\n",
    "        epoch_time = time.time() - start_time\n",
    "        epoch_times.append(epoch_time)\n",
    "\n",
    "        # Calculate remaining time\n",
    "        avg_epoch_time = sum(epoch_times) / len(epoch_times)\n",
    "        remaining_time = avg_epoch_time * (epochs - (epoch_num + 1))\n",
    "\n",
    "        # Print epoch metrics and remaining time\n",
    "        print(f\"Epoch {epoch_num+1}/{epochs}, Loss: {total_loss_train/len(train_dataloader)}\")#, Accuracy: {total_acc_train/len(train_dataloader.dataset)}\")\n",
    "        print(f\"Time for epoch {epoch_num+1}: {epoch_time:.2f} seconds\")\n",
    "        print(f\"Estimated remaining time: {format_time(remaining_time)} seconds\")\n",
    "\n",
    "        save_model(model, epoch_num, save_path)\n"
   ]
  },
  {
   "cell_type": "code",
   "execution_count": 135,
   "metadata": {},
   "outputs": [],
   "source": [
    "\n",
    "class NERDataset(torch.utils.data.Dataset):\n",
    "\n",
    "  def __init__(self, x, y, max_len):\n",
    "    \"\"\"\n",
    "    This is the constructor of the NERDataset\n",
    "    Inputs:\n",
    "    - x: a list of lists where each list contains the ids of the tokens\n",
    "    - y: a list of lists where each list contains the label of each token in the sentence\n",
    "    - pad: the id of the <PAD> token (to be used for padding all sentences and labels to have the same length)\n",
    "    \"\"\"\n",
    "    # i guess x should be extended to have the same length as y\n",
    "    self.x_tensor = x\n",
    "    self.y_tensor = torch.tensor([seq + [0] * (max_len - len(seq)) for seq in y], dtype=torch.long)\n",
    "    #################################################################################################################\n",
    "\n",
    "  def __len__(self):\n",
    "    \"\"\"\n",
    "    This function should return the length of the dataset (the number of sentences)\n",
    "    \"\"\"\n",
    "    ###################### TODO: return the length of the dataset #############################\n",
    "\n",
    "    return len(self.x_tensor)\n",
    "  \n",
    "    ###########################################################################################\n",
    "\n",
    "  def __getitem__(self, idx):\n",
    "    \"\"\"\n",
    "    This function returns a subset of the whole dataset\n",
    "    \"\"\"\n",
    "    ###################### TODO: return a tuple of x and y ###################################\n",
    "    return self.x_tensor[idx], self.y_tensor[idx]\n",
    "    ##########################################################################################\n"
   ]
  },
  {
   "cell_type": "code",
   "execution_count": 136,
   "metadata": {},
   "outputs": [],
   "source": [
    "def save_model(model, epoch, path=\"model_epoch_{}.pth\"):\n",
    "    torch.save(model.state_dict(), path.format(epoch))\n",
    "    print(f\"Model saved to {path.format(epoch)}\")"
   ]
  },
  {
   "cell_type": "code",
   "execution_count": 137,
   "metadata": {},
   "outputs": [],
   "source": [
    "\n",
    "class NERDataset(torch.utils.data.Dataset):\n",
    "\n",
    "  def __init__(self, x, y, max_len):\n",
    "    \"\"\"\n",
    "    This is the constructor of the NERDataset\n",
    "    Inputs:\n",
    "    - x: a list of lists where each list contains the ids of the tokens\n",
    "    - y: a list of lists where each list contains the label of each token in the sentence\n",
    "    - pad: the id of the <PAD> token (to be used for padding all sentences and labels to have the same length)\n",
    "    \"\"\"\n",
    "    # i guess x should be extended to have the same length as y\n",
    "    self.x_tensor = x\n",
    "    self.y_tensor = torch.tensor([seq + [0] * (max_len - len(seq)) for seq in y], dtype=torch.long)\n",
    "    #################################################################################################################\n",
    "\n",
    "  def __len__(self):\n",
    "    \"\"\"\n",
    "    This function should return the length of the dataset (the number of sentences)\n",
    "    \"\"\"\n",
    "    ###################### TODO: return the length of the dataset #############################\n",
    "\n",
    "    return len(self.x_tensor)\n",
    "  \n",
    "    ###########################################################################################\n",
    "\n",
    "  def __getitem__(self, idx):\n",
    "    \"\"\"\n",
    "    This function returns a subset of the whole dataset\n",
    "    \"\"\"\n",
    "    ###################### TODO: return a tuple of x and y ###################################\n",
    "    return self.x_tensor[idx], self.y_tensor[idx]\n",
    "    ##########################################################################################\n"
   ]
  },
  {
   "cell_type": "code",
   "execution_count": 138,
   "metadata": {},
   "outputs": [],
   "source": [
    "def save_model(model, epoch, path=\"model_epoch_{}.pth\"):\n",
    "    torch.save(model.state_dict(), path.format(epoch))\n",
    "    print(f\"Model saved to {path.format(epoch)}\")"
   ]
  },
  {
   "cell_type": "code",
   "execution_count": 139,
   "metadata": {},
   "outputs": [
    {
     "name": "stdout",
     "output_type": "stream",
     "text": [
      "train_SRC read  can i have a large bbq pulled pork\n",
      "output_labels read  0 0 0 B-NUMBER B-SIZE B-TOPPING I-TOPPING I-TOPPING \n",
      "train_SRC length  10000\n",
      "output_labels length  10000\n",
      "checkpoint 0\n",
      "checkpoint 1\n",
      "model created\n",
      "training starting\n",
      "checkpoint 2\n",
      "---------------------------------------------\n"
     ]
    },
    {
     "name": "stderr",
     "output_type": "stream",
     "text": [
      "  0%|          | 0/10 [00:00<?, ?it/s]Some weights of RobertaModel were not initialized from the model checkpoint at roberta-base and are newly initialized: ['roberta.pooler.dense.bias', 'roberta.pooler.dense.weight']\n",
      "You should probably TRAIN this model on a down-stream task to be able to use it for predictions and inference.\n",
      " 10%|█         | 1/10 [00:14<02:14, 14.97s/it]"
     ]
    },
    {
     "name": "stdout",
     "output_type": "stream",
     "text": [
      "Epochs: 1 | Train Loss: 65.0488125                 | Train Accuracy: 0.0030640000477433205\n",
      "\n",
      "Epoch 1/2, Batch 1/10\n",
      "Time for batch 1: 14.96 seconds\n",
      "Estimated remaining time: 0h 4m 44s seconds\n"
     ]
    },
    {
     "name": "stderr",
     "output_type": "stream",
     "text": [
      "Some weights of RobertaModel were not initialized from the model checkpoint at roberta-base and are newly initialized: ['roberta.pooler.dense.bias', 'roberta.pooler.dense.weight']\n",
      "You should probably TRAIN this model on a down-stream task to be able to use it for predictions and inference.\n",
      " 20%|██        | 2/10 [00:30<02:02, 15.37s/it]"
     ]
    },
    {
     "name": "stdout",
     "output_type": "stream",
     "text": [
      "Epochs: 1 | Train Loss: 130.4740125                 | Train Accuracy: 0.006060000043362379\n",
      "\n",
      "Epoch 1/2, Batch 2/10\n",
      "Time for batch 2: 15.65 seconds\n",
      "Estimated remaining time: 0h 4m 35s seconds\n"
     ]
    },
    {
     "name": "stderr",
     "output_type": "stream",
     "text": [
      "Some weights of RobertaModel were not initialized from the model checkpoint at roberta-base and are newly initialized: ['roberta.pooler.dense.bias', 'roberta.pooler.dense.weight']\n",
      "You should probably TRAIN this model on a down-stream task to be able to use it for predictions and inference.\n",
      " 30%|███       | 3/10 [00:45<01:46, 15.18s/it]"
     ]
    },
    {
     "name": "stdout",
     "output_type": "stream",
     "text": [
      "Epochs: 1 | Train Loss: 195.1178875                 | Train Accuracy: 0.00910400040447712\n",
      "\n",
      "Epoch 1/2, Batch 3/10\n",
      "Time for batch 3: 14.94 seconds\n",
      "Estimated remaining time: 0h 4m 18s seconds\n"
     ]
    },
    {
     "name": "stderr",
     "output_type": "stream",
     "text": [
      "Some weights of RobertaModel were not initialized from the model checkpoint at roberta-base and are newly initialized: ['roberta.pooler.dense.bias', 'roberta.pooler.dense.weight']\n",
      "You should probably TRAIN this model on a down-stream task to be able to use it for predictions and inference.\n",
      " 40%|████      | 4/10 [01:01<01:32, 15.48s/it]"
     ]
    },
    {
     "name": "stdout",
     "output_type": "stream",
     "text": [
      "Epochs: 1 | Train Loss: 259.05925625                 | Train Accuracy: 0.011788000352680683\n",
      "\n",
      "Epoch 1/2, Batch 4/10\n",
      "Time for batch 4: 15.94 seconds\n",
      "Estimated remaining time: 0h 4m 5s seconds\n"
     ]
    },
    {
     "name": "stderr",
     "output_type": "stream",
     "text": [
      "Some weights of RobertaModel were not initialized from the model checkpoint at roberta-base and are newly initialized: ['roberta.pooler.dense.bias', 'roberta.pooler.dense.weight']\n",
      "You should probably TRAIN this model on a down-stream task to be able to use it for predictions and inference.\n",
      " 50%|█████     | 5/10 [01:16<01:16, 15.31s/it]"
     ]
    },
    {
     "name": "stdout",
     "output_type": "stream",
     "text": [
      "Epochs: 1 | Train Loss: 324.6958                 | Train Accuracy: 0.013240000233054161\n",
      "\n",
      "Epoch 1/2, Batch 5/10\n",
      "Time for batch 5: 15.02 seconds\n",
      "Estimated remaining time: 0h 3m 49s seconds\n"
     ]
    },
    {
     "name": "stderr",
     "output_type": "stream",
     "text": [
      "Some weights of RobertaModel were not initialized from the model checkpoint at roberta-base and are newly initialized: ['roberta.pooler.dense.bias', 'roberta.pooler.dense.weight']\n",
      "You should probably TRAIN this model on a down-stream task to be able to use it for predictions and inference.\n",
      " 60%|██████    | 6/10 [01:31<01:00, 15.17s/it]"
     ]
    },
    {
     "name": "stdout",
     "output_type": "stream",
     "text": [
      "Epochs: 1 | Train Loss: 389.23009375                 | Train Accuracy: 0.01450399961322546\n",
      "\n",
      "Epoch 1/2, Batch 6/10\n",
      "Time for batch 6: 14.89 seconds\n",
      "Estimated remaining time: 0h 3m 33s seconds\n"
     ]
    },
    {
     "name": "stderr",
     "output_type": "stream",
     "text": [
      "Some weights of RobertaModel were not initialized from the model checkpoint at roberta-base and are newly initialized: ['roberta.pooler.dense.bias', 'roberta.pooler.dense.weight']\n",
      "You should probably TRAIN this model on a down-stream task to be able to use it for predictions and inference.\n",
      " 70%|███████   | 7/10 [01:46<00:45, 15.13s/it]"
     ]
    },
    {
     "name": "stdout",
     "output_type": "stream",
     "text": [
      "Epochs: 1 | Train Loss: 454.115875                 | Train Accuracy: 0.01582000032067299\n",
      "\n",
      "Epoch 1/2, Batch 7/10\n",
      "Time for batch 7: 15.04 seconds\n",
      "Estimated remaining time: 0h 3m 17s seconds\n"
     ]
    },
    {
     "name": "stderr",
     "output_type": "stream",
     "text": [
      "Some weights of RobertaModel were not initialized from the model checkpoint at roberta-base and are newly initialized: ['roberta.pooler.dense.bias', 'roberta.pooler.dense.weight']\n",
      "You should probably TRAIN this model on a down-stream task to be able to use it for predictions and inference.\n",
      " 80%|████████  | 8/10 [02:01<00:30, 15.26s/it]"
     ]
    },
    {
     "name": "stdout",
     "output_type": "stream",
     "text": [
      "Epochs: 1 | Train Loss: 518.07229375                 | Train Accuracy: 0.017155999317765236\n",
      "\n",
      "Epoch 1/2, Batch 8/10\n",
      "Time for batch 8: 15.52 seconds\n",
      "Estimated remaining time: 0h 3m 2s seconds\n"
     ]
    },
    {
     "name": "stderr",
     "output_type": "stream",
     "text": [
      "Some weights of RobertaModel were not initialized from the model checkpoint at roberta-base and are newly initialized: ['roberta.pooler.dense.bias', 'roberta.pooler.dense.weight']\n",
      "You should probably TRAIN this model on a down-stream task to be able to use it for predictions and inference.\n",
      " 90%|█████████ | 9/10 [02:17<00:15, 15.26s/it]"
     ]
    },
    {
     "name": "stdout",
     "output_type": "stream",
     "text": [
      "Epochs: 1 | Train Loss: 582.36615625                 | Train Accuracy: 0.01852400042116642\n",
      "\n",
      "Epoch 1/2, Batch 9/10\n",
      "Time for batch 9: 15.25 seconds\n",
      "Estimated remaining time: 0h 2m 47s seconds\n"
     ]
    },
    {
     "name": "stderr",
     "output_type": "stream",
     "text": [
      "Some weights of RobertaModel were not initialized from the model checkpoint at roberta-base and are newly initialized: ['roberta.pooler.dense.bias', 'roberta.pooler.dense.weight']\n",
      "You should probably TRAIN this model on a down-stream task to be able to use it for predictions and inference.\n",
      "100%|██████████| 10/10 [02:31<00:00, 15.19s/it]\n"
     ]
    },
    {
     "name": "stdout",
     "output_type": "stream",
     "text": [
      "Epochs: 1 | Train Loss: 646.77773125                 | Train Accuracy: 0.0197759997099638\n",
      "\n",
      "Epoch 1/2, Batch 10/10\n",
      "Time for batch 10: 14.60 seconds\n",
      "Estimated remaining time: 0h 2m 31s seconds\n",
      "Epoch 1/2, Loss: 646777.73125\n",
      "Time for epoch 1: 151.86 seconds\n",
      "Estimated remaining time: 0h 2m 31s seconds\n",
      "Model saved to models_lstm/model_epoch_0.pth\n"
     ]
    },
    {
     "name": "stderr",
     "output_type": "stream",
     "text": [
      "  0%|          | 0/10 [00:00<?, ?it/s]Some weights of RobertaModel were not initialized from the model checkpoint at roberta-base and are newly initialized: ['roberta.pooler.dense.bias', 'roberta.pooler.dense.weight']\n",
      "You should probably TRAIN this model on a down-stream task to be able to use it for predictions and inference.\n",
      " 10%|█         | 1/10 [00:14<02:08, 14.32s/it]"
     ]
    },
    {
     "name": "stdout",
     "output_type": "stream",
     "text": [
      "Epochs: 2 | Train Loss: 65.5512875                 | Train Accuracy: 0.0012440000427886844\n",
      "\n",
      "Epoch 2/2, Batch 1/10\n",
      "Time for batch 1: 14.31 seconds\n",
      "Estimated remaining time: 0h 2m 15s seconds\n"
     ]
    },
    {
     "name": "stderr",
     "output_type": "stream",
     "text": [
      "Some weights of RobertaModel were not initialized from the model checkpoint at roberta-base and are newly initialized: ['roberta.pooler.dense.bias', 'roberta.pooler.dense.weight']\n",
      "You should probably TRAIN this model on a down-stream task to be able to use it for predictions and inference.\n",
      " 20%|██        | 2/10 [00:28<01:56, 14.51s/it]"
     ]
    },
    {
     "name": "stdout",
     "output_type": "stream",
     "text": [
      "Epochs: 2 | Train Loss: 129.5726625                 | Train Accuracy: 0.0025239998940378428\n",
      "\n",
      "Epoch 2/2, Batch 2/10\n",
      "Time for batch 2: 14.63 seconds\n",
      "Estimated remaining time: 0h 2m 0s seconds\n"
     ]
    },
    {
     "name": "stderr",
     "output_type": "stream",
     "text": [
      "Some weights of RobertaModel were not initialized from the model checkpoint at roberta-base and are newly initialized: ['roberta.pooler.dense.bias', 'roberta.pooler.dense.weight']\n",
      "You should probably TRAIN this model on a down-stream task to be able to use it for predictions and inference.\n",
      " 30%|███       | 3/10 [00:43<01:41, 14.50s/it]"
     ]
    },
    {
     "name": "stdout",
     "output_type": "stream",
     "text": [
      "Epochs: 2 | Train Loss: 193.57470625                 | Train Accuracy: 0.003768000053241849\n",
      "\n",
      "Epoch 2/2, Batch 3/10\n",
      "Time for batch 3: 14.48 seconds\n",
      "Estimated remaining time: 0h 1m 45s seconds\n"
     ]
    },
    {
     "name": "stderr",
     "output_type": "stream",
     "text": [
      "Some weights of RobertaModel were not initialized from the model checkpoint at roberta-base and are newly initialized: ['roberta.pooler.dense.bias', 'roberta.pooler.dense.weight']\n",
      "You should probably TRAIN this model on a down-stream task to be able to use it for predictions and inference.\n",
      " 40%|████      | 4/10 [00:58<01:27, 14.55s/it]"
     ]
    },
    {
     "name": "stdout",
     "output_type": "stream",
     "text": [
      "Epochs: 2 | Train Loss: 257.71905                 | Train Accuracy: 0.004999999888241291\n",
      "\n",
      "Epoch 2/2, Batch 4/10\n",
      "Time for batch 4: 14.64 seconds\n",
      "Estimated remaining time: 0h 1m 29s seconds\n"
     ]
    },
    {
     "name": "stderr",
     "output_type": "stream",
     "text": [
      "Some weights of RobertaModel were not initialized from the model checkpoint at roberta-base and are newly initialized: ['roberta.pooler.dense.bias', 'roberta.pooler.dense.weight']\n",
      "You should probably TRAIN this model on a down-stream task to be able to use it for predictions and inference.\n",
      " 50%|█████     | 5/10 [01:12<01:13, 14.62s/it]"
     ]
    },
    {
     "name": "stdout",
     "output_type": "stream",
     "text": [
      "Epochs: 2 | Train Loss: 320.4324875                 | Train Accuracy: 0.006335999816656113\n",
      "\n",
      "Epoch 2/2, Batch 5/10\n",
      "Time for batch 5: 14.74 seconds\n",
      "Estimated remaining time: 0h 1m 14s seconds\n"
     ]
    },
    {
     "name": "stderr",
     "output_type": "stream",
     "text": [
      "Some weights of RobertaModel were not initialized from the model checkpoint at roberta-base and are newly initialized: ['roberta.pooler.dense.bias', 'roberta.pooler.dense.weight']\n",
      "You should probably TRAIN this model on a down-stream task to be able to use it for predictions and inference.\n",
      " 60%|██████    | 6/10 [01:27<00:58, 14.60s/it]"
     ]
    },
    {
     "name": "stdout",
     "output_type": "stream",
     "text": [
      "Epochs: 2 | Train Loss: 384.85209375                 | Train Accuracy: 0.007672000210732222\n",
      "\n",
      "Epoch 2/2, Batch 6/10\n",
      "Time for batch 6: 14.56 seconds\n",
      "Estimated remaining time: 0h 0m 59s seconds\n"
     ]
    },
    {
     "name": "stderr",
     "output_type": "stream",
     "text": [
      "Some weights of RobertaModel were not initialized from the model checkpoint at roberta-base and are newly initialized: ['roberta.pooler.dense.bias', 'roberta.pooler.dense.weight']\n",
      "You should probably TRAIN this model on a down-stream task to be able to use it for predictions and inference.\n",
      " 70%|███████   | 7/10 [01:42<00:43, 14.65s/it]"
     ]
    },
    {
     "name": "stdout",
     "output_type": "stream",
     "text": [
      "Epochs: 2 | Train Loss: 448.540425                 | Train Accuracy: 0.00897200033068657\n",
      "\n",
      "Epoch 2/2, Batch 7/10\n",
      "Time for batch 7: 14.73 seconds\n",
      "Estimated remaining time: 0h 0m 44s seconds\n"
     ]
    },
    {
     "name": "stderr",
     "output_type": "stream",
     "text": [
      "Some weights of RobertaModel were not initialized from the model checkpoint at roberta-base and are newly initialized: ['roberta.pooler.dense.bias', 'roberta.pooler.dense.weight']\n",
      "You should probably TRAIN this model on a down-stream task to be able to use it for predictions and inference.\n",
      " 80%|████████  | 8/10 [01:56<00:29, 14.54s/it]"
     ]
    },
    {
     "name": "stdout",
     "output_type": "stream",
     "text": [
      "Epochs: 2 | Train Loss: 513.4440625                 | Train Accuracy: 0.010255999863147736\n",
      "\n",
      "Epoch 2/2, Batch 8/10\n",
      "Time for batch 8: 14.30 seconds\n",
      "Estimated remaining time: 0h 0m 29s seconds\n"
     ]
    },
    {
     "name": "stderr",
     "output_type": "stream",
     "text": [
      "Some weights of RobertaModel were not initialized from the model checkpoint at roberta-base and are newly initialized: ['roberta.pooler.dense.bias', 'roberta.pooler.dense.weight']\n",
      "You should probably TRAIN this model on a down-stream task to be able to use it for predictions and inference.\n",
      " 90%|█████████ | 9/10 [02:11<00:14, 14.61s/it]"
     ]
    },
    {
     "name": "stdout",
     "output_type": "stream",
     "text": [
      "Epochs: 2 | Train Loss: 577.63285                 | Train Accuracy: 0.011603999882936478\n",
      "\n",
      "Epoch 2/2, Batch 9/10\n",
      "Time for batch 9: 14.76 seconds\n",
      "Estimated remaining time: 0h 0m 14s seconds\n"
     ]
    },
    {
     "name": "stderr",
     "output_type": "stream",
     "text": [
      "Some weights of RobertaModel were not initialized from the model checkpoint at roberta-base and are newly initialized: ['roberta.pooler.dense.bias', 'roberta.pooler.dense.weight']\n",
      "You should probably TRAIN this model on a down-stream task to be able to use it for predictions and inference.\n",
      "100%|██████████| 10/10 [02:25<00:00, 14.57s/it]"
     ]
    },
    {
     "name": "stdout",
     "output_type": "stream",
     "text": [
      "Epochs: 2 | Train Loss: 641.121425                 | Train Accuracy: 0.012864000163972378\n",
      "\n",
      "Epoch 2/2, Batch 10/10\n",
      "Time for batch 10: 14.48 seconds\n",
      "Estimated remaining time: 0h 0m 0s seconds\n",
      "Epoch 2/2, Loss: 641121.425\n",
      "Time for epoch 2: 145.69 seconds\n",
      "Estimated remaining time: 0h 0m 0s seconds\n",
      "Model saved to models_lstm/model_epoch_1.pth\n"
     ]
    },
    {
     "name": "stderr",
     "output_type": "stream",
     "text": [
      "\n"
     ]
    }
   ],
   "source": [
    "train_SRC,output_labels = extract_sentences()\n",
    "train_SRC = train_SRC[:10000]\n",
    "output_labels = output_labels[:10000]\n",
    "print(\"train_SRC read \",train_SRC[0])\n",
    "print(\"output_labels read \",output_labels[0])\n",
    "print(\"train_SRC length \",len(train_SRC))\n",
    "print(\"output_labels length \",len(output_labels))\n",
    "print(\"checkpoint 0\")\n",
    "\n",
    "ut_labels = read_unique_labels('./unique_labels.txt')\n",
    "\n",
    "t_labels = {}\n",
    "t_labels['0'] = 0\n",
    "for i in range(len(ut_labels)):\n",
    "    t_labels[ut_labels[i]] = i+1\n",
    "\n",
    "train_SRC_size = len(train_SRC)\n",
    "\n",
    "longest_sentence = 25\n",
    "print(\"checkpoint 1\")\n",
    "#tag_indices = [[t_labels[tag] for tag in sentence_tags] for sentence_tags in output_labels]\n",
    "for i in range(len(output_labels)):\n",
    "    output_labels[i] = output_labels[i].split()\n",
    "tag_indices = [[t_labels[tag] for tag in sentence_tags] for sentence_tags in output_labels]\n",
    "\n",
    "model = NER(longest_sentence, hidden_size=512, embedding_dim=870,num_layers=1,\n",
    "            dropout=0,bidirectional=True,batch_first=True,use_attention=True)\n",
    "train_dataset = NERDataset(train_SRC, tag_indices, longest_sentence)    \n",
    "print(\"model created\")\n",
    "print(\"training starting\")\n",
    "print(\"checkpoint 2\")\n",
    "print(\"---------------------------------------------\")\n",
    "train(model, train_dataset, batch_size=1000, epochs=2, learning_rate=0.0001,norm_clip=0.1)\n"
   ]
  }
 ],
 "metadata": {
  "kernelspec": {
   "display_name": "Python 3",
   "language": "python",
   "name": "python3"
  },
  "language_info": {
   "codemirror_mode": {
    "name": "ipython",
    "version": 3
   },
   "file_extension": ".py",
   "mimetype": "text/x-python",
   "name": "python",
   "nbconvert_exporter": "python",
   "pygments_lexer": "ipython3",
   "version": "3.12.2"
  }
 },
 "nbformat": 4,
 "nbformat_minor": 2
}
